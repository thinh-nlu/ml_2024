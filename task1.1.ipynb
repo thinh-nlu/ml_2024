{
  "nbformat": 4,
  "nbformat_minor": 0,
  "metadata": {
    "colab": {
      "provenance": [],
      "authorship_tag": "ABX9TyO8FUkI8ARen5a2it2lOF9M",
      "include_colab_link": true
    },
    "kernelspec": {
      "name": "python3",
      "display_name": "Python 3"
    },
    "language_info": {
      "name": "python"
    }
  },
  "cells": [
    {
      "cell_type": "markdown",
      "metadata": {
        "id": "view-in-github",
        "colab_type": "text"
      },
      "source": [
        "<a href=\"https://colab.research.google.com/github/thinh-nlu/ml_2024/blob/main/task1.1.ipynb\" target=\"_parent\"><img src=\"https://colab.research.google.com/assets/colab-badge.svg\" alt=\"Open In Colab\"/></a>"
      ]
    },
    {
      "cell_type": "code",
      "execution_count": 22,
      "metadata": {
        "colab": {
          "base_uri": "https://localhost:8080/"
        },
        "id": "aHY41LxfohfG",
        "outputId": "59ce01ff-2aa4-45bd-97d9-870d65064bca"
      },
      "outputs": [
        {
          "output_type": "stream",
          "name": "stdout",
          "text": [
            "Nhập vào số n: 3\n",
            "Nhập vào số thứ 1: 2\n",
            "Nhập vào số thứ 2: 1\n",
            "Nhập vào số thứ 3: 3\n",
            "Giá trị nhỏ nhất, lớn nhất, tổng giá trị, list: \n"
          ]
        },
        {
          "output_type": "execute_result",
          "data": {
            "text/plain": [
              "(None, 1, 3, 6, [1, 2, 3])"
            ]
          },
          "metadata": {},
          "execution_count": 22
        }
      ],
      "source": [
        "n = int(input(\"Nhập vào số n: \"))\n",
        "\n",
        "list = []\n",
        "\n",
        "for i in range(n):\n",
        "  x = int(input(f\"Nhập vào số thứ {i + 1}: \"))\n",
        "  list.append(x)\n",
        "\n",
        "print(\"Giá trị nhỏ nhất, lớn nhất, tổng giá trị, list: \"), min(list), max(list), sum(list), sorted(list)"
      ]
    }
  ]
}