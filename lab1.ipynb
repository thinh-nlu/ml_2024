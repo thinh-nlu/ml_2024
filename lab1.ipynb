{
  "nbformat": 4,
  "nbformat_minor": 0,
  "metadata": {
    "colab": {
      "provenance": [],
      "authorship_tag": "ABX9TyPeLz38CjSyGIpnxZHOT23B",
      "include_colab_link": true
    },
    "kernelspec": {
      "name": "python3",
      "display_name": "Python 3"
    },
    "language_info": {
      "name": "python"
    }
  },
  "cells": [
    {
      "cell_type": "markdown",
      "metadata": {
        "id": "view-in-github",
        "colab_type": "text"
      },
      "source": [
        "<a href=\"https://colab.research.google.com/github/thinh-nlu/ml_2024/blob/main/lab1.ipynb\" target=\"_parent\"><img src=\"https://colab.research.google.com/assets/colab-badge.svg\" alt=\"Open In Colab\"/></a>"
      ]
    },
    {
      "cell_type": "code",
      "execution_count": null,
      "metadata": {
        "colab": {
          "base_uri": "https://localhost:8080/"
        },
        "id": "aHY41LxfohfG",
        "outputId": "599155ad-50d0-4978-94a7-a5d0e7369fc4"
      },
      "outputs": [
        {
          "output_type": "stream",
          "name": "stdout",
          "text": [
            "Nhập vào số n: 3\n",
            "Nhập vào số thứ 1: 2\n",
            "Nhập vào số thứ 2: 1\n",
            "Nhập vào số thứ 3: 3\n",
            "Giá trị nhỏ nhất, lớn nhất, tổng giá trị, list:  1 3 6 [1, 2, 3]\n"
          ]
        },
        {
          "output_type": "execute_result",
          "data": {
            "text/plain": [
              "153"
            ]
          },
          "metadata": {},
          "execution_count": 1
        }
      ],
      "source": [
        "def task11():\n",
        "\n",
        "  n = int(input(\"Nhập vào số n: \"))\n",
        "\n",
        "  list = []\n",
        "\n",
        "  for i in range(n):\n",
        "    x = int(input(f\"Nhập vào số thứ {i + 1}: \"))\n",
        "    list.append(x)\n",
        "  print(\"Giá trị nhỏ nhất, lớn nhất, tổng giá trị, list: \", min(list), max(list), sum(list), sorted(list))\n",
        "\n",
        "task11()\n",
        "\n",
        "def task12(n):\n",
        "  temp = 1\n",
        "  rs = 0\n",
        "  for i in range(1, n + 1):\n",
        "    temp *= i\n",
        "    rs += temp\n",
        "  return rs\n",
        "\n",
        "task12(5)\n",
        "\n",
        "# task 1.3\n",
        "class Account:\n",
        "  def __init__(self, name, email, country):\n",
        "    self._name = name\n",
        "    self._email = email\n",
        "    self._country = country\n",
        "    self._friends = []\n",
        "    self._posts = []\n",
        "\n",
        "  def get_max_like_post_by_friend():\n",
        "    if not self._friends:\n",
        "      return None\n",
        "\n",
        "    max_like = 0\n",
        "    max_likes_post = None\n",
        "\n",
        "    for friend in self._friends:\n",
        "      for post in self._posts:\n",
        "        if post.likes > max_like:\n",
        "            max_like = post.likes\n",
        "            max_likes_post = post\n",
        "\n",
        "    return max_likes_post\n",
        "\n",
        "class Post:\n",
        "  def __init__(self, content, subject, likes):\n",
        "    self._content = content\n",
        "    self._subject = subject\n",
        "    self._likes = likes\n",
        "\n",
        "class AccountManager:\n",
        "  def __init__(self):\n",
        "    self._accounts = []\n",
        "\n",
        "  def group_account_by_post_like(self):\n",
        "        account_groups = {False: [], True: []}\n",
        "\n",
        "        for account in self.accounts:\n",
        "            total_posts = len(account.posts)\n",
        "            has_10_or_more_posts = total_posts >= 10\n",
        "\n",
        "            account_groups[has_10_or_more_posts].append(account)\n",
        "\n",
        "        return account_groups\n",
        "\n",
        "  def filterAccounts(self, country):\n",
        "        filtered_accounts = set(filter(lambda acc: acc.country == country, self.accounts))\n",
        "        sorted_accounts = sorted(filtered_accounts, key=cmp_to_key(self.compare_accounts))\n",
        "        return sorted_accounts\n",
        "\n",
        "  @staticmethod\n",
        "  def compare_accounts(account1, account2):\n",
        "        post_count_diff = len(account2.posts) - len(account1.posts)\n",
        "\n",
        "        if post_count_diff == 0:\n",
        "            return account1.name.lower() < account2.name.lower()\n",
        "\n",
        "        return post_count_diff\n",
        "\n"
      ]
    },
    {
      "cell_type": "code",
      "source": [],
      "metadata": {
        "id": "BRpGT-5PyWNi"
      },
      "execution_count": null,
      "outputs": []
    }
  ]
}