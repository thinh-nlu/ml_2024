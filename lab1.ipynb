{
  "nbformat": 4,
  "nbformat_minor": 0,
  "metadata": {
    "colab": {
      "provenance": [],
      "authorship_tag": "ABX9TyPAV/KYP7lni9erA1Tlswq0",
      "include_colab_link": true
    },
    "kernelspec": {
      "name": "python3",
      "display_name": "Python 3"
    },
    "language_info": {
      "name": "python"
    }
  },
  "cells": [
    {
      "cell_type": "markdown",
      "metadata": {
        "id": "view-in-github",
        "colab_type": "text"
      },
      "source": [
        "<a href=\"https://colab.research.google.com/github/thinh-nlu/ml_2024/blob/main/lab1.ipynb\" target=\"_parent\"><img src=\"https://colab.research.google.com/assets/colab-badge.svg\" alt=\"Open In Colab\"/></a>"
      ]
    },
    {
      "cell_type": "code",
      "execution_count": null,
      "metadata": {
        "colab": {
          "base_uri": "https://localhost:8080/"
        },
        "id": "aHY41LxfohfG",
        "outputId": "ac5c96f8-2069-4d55-c8a0-1a29fa5e07d4"
      },
      "outputs": [
        {
          "output_type": "stream",
          "name": "stdout",
          "text": [
            "Nhập vào số n: 3\n",
            "Nhập vào số thứ 1: 2\n",
            "Nhập vào số thứ 2: 1\n",
            "Nhập vào số thứ 3: 3\n",
            "Giá trị nhỏ nhất, lớn nhất, tổng giá trị, list:  1 3 6 [1, 2, 3]\n"
          ]
        }
      ],
      "source": [
        "def task11():\n",
        "\n",
        "  n = int(input(\"Nhập vào số n: \"))\n",
        "\n",
        "  list = []\n",
        "\n",
        "  for i in range(n):\n",
        "    x = int(input(f\"Nhập vào số thứ {i + 1}: \"))\n",
        "    list.append(x)\n",
        "  print(\"Giá trị nhỏ nhất, lớn nhất, tổng giá trị, list: \", min(list), max(list), sum(list), sorted(list))\n",
        "\n",
        "task11()\n",
        "\n",
        "test"
      ]
    }
  ]
}